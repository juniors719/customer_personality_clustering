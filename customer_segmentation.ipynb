{
 "cells": [
  {
   "cell_type": "markdown",
   "id": "96ac22ba",
   "metadata": {},
   "source": [
    "# Trabalho Prático 2 – Aprendizado Não Supervisionado  \n",
    "## Segmentação de Clientes com Algoritmos de Clusterização\n",
    "\n",
    "### Equipe:\n",
    "* Francisco Djalma Pereira da Silva Júnior - 554222\n",
    "* Francisco Leudes Bezerra Neto - 552478\n",
    "* Pablo Vinícius da Silva Araújo - 574229\n",
    "\n",
    "### Objetivo:\n",
    "O objetivo principal deste projeto é aplicar, comparar e avaliar o desempenho de três algoritmos de clusterização distintos a um conjunto de dados real. O processo envolve todas as etapas de um projeto de ciência de dados, desde a exploração e pré-processamento dos dados até a aplicação dos modelos e a interpretação dos resultados. Ao final, buscamos identificar segmentos (clusters) de clientes com perfis e comportamentos semelhantes, que possam ser utilizados para direcionar estratégias de marketing mais eficazes.\n",
    "\n",
    "### Descrição do Conjunto de Dados:\n",
    "Para este trabalho, foi selecionado o dataset **\"Customer Personality Analysis\"**, disponível publicamente na plataforma Kaggle.\n",
    "* **Fonte:** [Kaggle - Customer Personality Analysis](https://www.kaggle.com/datasets/imakash3011/customer-personality-analysis)\n",
    "* **Amostras:** O dataset original contém **2.240** registros de clientes.\n",
    "* **Características:** Possui **29** atributos (features) que detalham o perfil de cada consumidor em quatro categorias principais:\n",
    "    * **Pessoas:** Dados demográficos como ano de nascimento, educação, estado civil e renda.\n",
    "    * **Produtos:** Gastos em diferentes categorias de produtos (vinhos, carnes, frutas, etc.).\n",
    "    * **Promoções:** Engajamento dos clientes com campanhas de marketing anteriores.\n",
    "    * **Lugar:** Canais de compra utilizados pelos clientes (loja física, site, catálogo).\n",
    "\n",
    "Este conjunto de dados é ideal para a tarefa de clusterização, pois não possui rótulos predefinidos (variável alvo), característica típica de problemas de aprendizado não supervisionado. A riqueza de atributos comportamentais e demográficos torna possível a identificação de segmentos relevantes.\n",
    "\n",
    "### Algoritmos Utilizados\n",
    "\n",
    "- **K-Means:** Rápido e eficiente para grandes datasets; assume clusters esféricos e de tamanho similar.\n",
    "- **Hierárquico (Aglomerativo):** Permite análise mais interpretável via dendrograma; não requer definição prévia do número de clusters.\n",
    "- **DBSCAN:** Identifica clusters de formatos arbitrários e detecta outliers naturalmente.\n",
    "\n",
    "### Pipeline do Projeto\n",
    "1. Importação e visualização inicial dos dados\n",
    "2. Limpeza de dados e engenharia de atributos\n",
    "3. Análise exploratória e identificação de outliers\n",
    "4. Pré-processamento (normalização e codificação)\n",
    "5. Aplicação dos algoritmos de clusterização\n",
    "6. Avaliação e comparação dos modelos\n",
    "7. Visualização com PCA e t-SNE\n",
    "8. Perfilamento e interpretação dos clusters\n",
    "\n",
    "### Divisão de Tarefas:\n",
    "\n",
    "| Etapa                                          | Djalma | Leudes | Pablo |\n",
    "|------------------------------------------------|:------:|:------:|:-----:|\n",
    "| Escolha do dataset e definição do problema     |   ✔    |   ✔    |   ✔   |\n",
    "| Importação e visualização inicial dos dados    |        |   ✔    |       |\n",
    "| Limpeza e engenharia de features               |   ✔    |        |       |\n",
    "| Análise exploratória e remoção de outliers     |        |        |   ✔   |\n",
    "| Pré-processamento (encoding e scaling)         |   ✔    |        |   ✔   |\n",
    "| Modelagem com K-Means                          |   ✔    |        |       |\n",
    "| Modelagem com Clusterização Hierárquica        |        |   ✔    |       |\n",
    "| Modelagem com DBSCAN                           |        |        |   ✔   |\n",
    "| Avaliação dos modelos                          |   ✔    |   ✔    |   ✔   |\n",
    "| Visualização dos clusters (PCA e t-SNE)        |   ✔    |        |       |\n",
    "| Conclusão e perfilamento                       |   ✔    |   ✔    |   ✔   |\n"
   ]
  },
  {
   "cell_type": "markdown",
   "id": "113480af",
   "metadata": {},
   "source": [
    "# Importação de bibliotecas\n"
   ]
  },
  {
   "cell_type": "code",
   "execution_count": null,
   "id": "46708c30",
   "metadata": {},
   "outputs": [],
   "source": [
    "import numpy as np\n",
    "import pandas as pd\n",
    "import matplotlib.pyplot as plt\n",
    "import seaborn as sns\n",
    "from matplotlib import colors"
   ]
  },
  {
   "cell_type": "markdown",
   "id": "b870690e",
   "metadata": {},
   "source": [
    "# Leitura do dataset"
   ]
  },
  {
   "cell_type": "code",
   "execution_count": null,
   "id": "073f6519",
   "metadata": {},
   "outputs": [],
   "source": [
    "df = pd.read_csv('marketing_campaign.csv', sep='\\t')"
   ]
  },
  {
   "cell_type": "markdown",
   "id": "482818d2",
   "metadata": {},
   "source": [
    "# Informações gerais do dataset"
   ]
  },
  {
   "cell_type": "code",
   "execution_count": null,
   "id": "3624acfa",
   "metadata": {},
   "outputs": [],
   "source": [
    "print(\"--- Informações Gerais e Valores Nulos ---\")\n",
    "df.info()"
   ]
  },
  {
   "cell_type": "code",
   "execution_count": null,
   "id": "4613d7b7",
   "metadata": {},
   "outputs": [],
   "source": [
    "# 2. Obter estatísticas descritivas para as colunas numéricas\n",
    "print(\"\\n\\n--- Estatísticas Descritivas (Numéricas) ---\")\n",
    "# Usamos o .T para transpor a tabela e facilitar a leitura\n",
    "display(df.describe().T)"
   ]
  },
  {
   "cell_type": "code",
   "execution_count": null,
   "id": "afada73d",
   "metadata": {},
   "outputs": [],
   "source": [
    "# 3. Verificar especificamente a quantidade de valores nulos por coluna\n",
    "print(\"\\n\\n--- Contagem de Valores Nulos por Coluna ---\")\n",
    "print(df.isnull().sum())"
   ]
  },
  {
   "cell_type": "code",
   "execution_count": null,
   "id": "3a91914a",
   "metadata": {},
   "outputs": [],
   "source": [
    "df.head()"
   ]
  },
  {
   "cell_type": "markdown",
   "id": "df6ffa4c",
   "metadata": {},
   "source": [
    "# Data Cleaning"
   ]
  },
  {
   "cell_type": "code",
   "execution_count": null,
   "id": "08fca1f3",
   "metadata": {},
   "outputs": [],
   "source": [
    "df_cleaned = df.copy()"
   ]
  },
  {
   "cell_type": "code",
   "execution_count": null,
   "id": "70f3bc4b",
   "metadata": {},
   "outputs": [],
   "source": [
    "median_income = df_cleaned['Income'].median()\n",
    "df_cleaned['Income'] = df_cleaned['Income'].fillna(median_income)"
   ]
  },
  {
   "cell_type": "code",
   "execution_count": null,
   "id": "dbfc6b01",
   "metadata": {},
   "outputs": [],
   "source": [
    "df_cleaned['Age'] = 2025 - df_cleaned['Year_Birth']"
   ]
  },
  {
   "cell_type": "code",
   "execution_count": null,
   "id": "1b2a7d78",
   "metadata": {},
   "outputs": [],
   "source": [
    "mnt_cols = [col for col in df_cleaned.columns if 'Mnt' in col]\n",
    "df_cleaned['Total_Spent'] = df_cleaned[mnt_cols].sum(axis=1)"
   ]
  },
  {
   "cell_type": "code",
   "execution_count": null,
   "id": "e7f294ff",
   "metadata": {},
   "outputs": [],
   "source": [
    "df_cleaned['Dt_Customer'] = pd.to_datetime(df_cleaned['Dt_Customer'], dayfirst=True)\n",
    "today = pd.to_datetime('2025-07-04')\n",
    "df_cleaned['Customer_Tenure'] = (today - df_cleaned['Dt_Customer']).dt.days"
   ]
  },
  {
   "cell_type": "code",
   "execution_count": null,
   "id": "4c208850",
   "metadata": {},
   "outputs": [],
   "source": [
    "df_cleaned['Living_With'] = df_cleaned['Marital_Status'] = df_cleaned['Marital_Status'].replace({\n",
    "    'Married': 'In_Relationship',\n",
    "    'Together': 'In_Relationship',\n",
    "    'Single': 'Single',\n",
    "    'Divorced': 'Single',\n",
    "    'Widow': 'Single',\n",
    "    'Alone': 'Single',\n",
    "    'Absurd': 'Single',\n",
    "    'YOLO': 'Single'\n",
    "})"
   ]
  },
  {
   "cell_type": "code",
   "execution_count": null,
   "id": "3fd1a712",
   "metadata": {},
   "outputs": [],
   "source": [
    "df_cleaned['Children'] = df_cleaned['Kidhome'] + df_cleaned['Teenhome']"
   ]
  },
  {
   "cell_type": "code",
   "execution_count": null,
   "id": "ae670fd0",
   "metadata": {},
   "outputs": [],
   "source": [
    "df_cleaned['Family_Size'] = df_cleaned['Living_With'].map({\n",
    "    'Single': 1,\n",
    "    'In_Relationship': 2\n",
    "}) + df_cleaned['Children']"
   ]
  },
  {
   "cell_type": "code",
   "execution_count": null,
   "id": "bf85b709",
   "metadata": {},
   "outputs": [],
   "source": [
    "df_cleaned['Is_Parent'] = np.where(df_cleaned['Children'] > 0, 1, 0)"
   ]
  },
  {
   "cell_type": "code",
   "execution_count": null,
   "id": "8181ea0a",
   "metadata": {},
   "outputs": [],
   "source": [
    "df_cleaned['Education'] = df_cleaned['Education'].replace({\n",
    "  'Basic': 'Undergraduate',\n",
    "  '2n Cycle': 'Undergraduate',\n",
    "  'Graduation': 'Graduate',\n",
    "  'Master': 'Postgraduate',\n",
    "  'PhD': 'Postgraduate'\n",
    "})"
   ]
  },
  {
   "cell_type": "code",
   "execution_count": null,
   "id": "72636929",
   "metadata": {},
   "outputs": [],
   "source": [
    "df_cleaned = df_cleaned.rename(\n",
    "  columns= {\n",
    "    'MntWines': 'Wine_Spent',\n",
    "    'MntFruits': 'Fruit_Spent',\n",
    "    'MntMeatProducts': 'Meat_Spent',\n",
    "    'MntFishProducts': 'Fish_Spent',\n",
    "    'MntSweetProducts': 'Sweet_Spent',\n",
    "    'MntGoldProds': 'Gold_Spent',\n",
    "  }\n",
    ")"
   ]
  },
  {
   "cell_type": "code",
   "execution_count": null,
   "id": "4a874318",
   "metadata": {},
   "outputs": [],
   "source": [
    "to_drop = [\n",
    "  'ID', 'Year_Birth', 'Dt_Customer', 'Z_CostContact', 'Z_Revenue', 'Marital_Status'\n",
    "]\n",
    "df_cleaned.drop(columns=to_drop, axis=1, inplace=True)"
   ]
  },
  {
   "cell_type": "markdown",
   "id": "9173928d",
   "metadata": {},
   "source": [
    "# Análise detalhada do dataset"
   ]
  },
  {
   "cell_type": "code",
   "execution_count": null,
   "id": "c66ecf79",
   "metadata": {},
   "outputs": [],
   "source": [
    "df_cleaned.info()"
   ]
  },
  {
   "cell_type": "code",
   "execution_count": null,
   "id": "37825a8e",
   "metadata": {},
   "outputs": [],
   "source": [
    "print(\"--- Contagem por Status de Relacionamento (Após Limpeza) ---\")\n",
    "print(df_cleaned[\"Marital_Status\"].value_counts())\n",
    "\n",
    "print(\"\\n\\n--- Contagem por Nível de Escolaridade ---\")\n",
    "print(df_cleaned[\"Education\"].value_counts())"
   ]
  },
  {
   "cell_type": "code",
   "execution_count": null,
   "id": "a8493670",
   "metadata": {},
   "outputs": [],
   "source": [
    "# --- PASSO DE ANÁLISE EXTRA: PAIRPLOT ---\n",
    "\n",
    "print(\"Gerando o Pairplot... Este gráfico pode demorar um pouco para ser criado.\")\n",
    "\n",
    "# 1. Definir as colunas que queremos visualizar\n",
    "# Usamos as nossas colunas: Total_Spent e Customer_Tenure\n",
    "cols_for_pairplot = [\"Income\", \"Recency\", \"Customer_Tenure\", \"Age\", \"Total_Spent\", \"Is_Parent\"]\n",
    "\n",
    "# 2. Criar o Pairplot\n",
    "# Usamos o df_cleaned, antes da remoção de outliers, para ter a visão completa\n",
    "sns.pairplot(\n",
    "    df_cleaned[cols_for_pairplot], \n",
    "    hue=\"Is_Parent\", \n",
    "    palette=[\"#682F2F\", \"#F3AB60\"] # Usando a paleta de cores sugerida\n",
    ")\n",
    "\n",
    "# Adicionar um título geral\n",
    "plt.suptitle('Relação Entre Features-Chave, Separado por Paternidade', y=1.02, fontsize=16)\n",
    "\n",
    "# Exibir o gráfico\n",
    "plt.show()"
   ]
  },
  {
   "cell_type": "code",
   "execution_count": null,
   "id": "aea6acb0",
   "metadata": {},
   "outputs": [],
   "source": [
    "# Configurando o estilo e a paleta de cores\n",
    "sns.set_style(\"whitegrid\")\n",
    "pallet = [\"#682F2F\", \"#9E726F\", \"#D6B2B1\", \"#B9C0C9\", \"#9F8A78\", \"#F3AB60\"]"
   ]
  },
  {
   "cell_type": "code",
   "execution_count": null,
   "id": "0e3edf2c",
   "metadata": {},
   "outputs": [],
   "source": [
    "# --- Capítulo 1: Quem são os Nossos Clientes? (Análise Demográfica) ---\n",
    "print(\"Capítulo 1: Perfil Demográfico dos Clientes\")\n",
    "fig1, axes1 = plt.subplots(2, 2, figsize=(18, 12))\n",
    "fig1.suptitle('Capítulo 1: Quem são os Nossos Clientes?', fontsize=20, y=1.03)\n",
    "\n",
    "# Gráfico 1.1: Distribuição da Renda\n",
    "sns.histplot(ax=axes1[0, 0], data=df_cleaned, x='Income', kde=True, color=pallet[0], bins=30)\n",
    "axes1[0, 0].set_title('Distribuição da Renda Anual', fontsize=14)\n",
    "\n",
    "# Gráfico 1.2: Distribuição da Idade\n",
    "sns.histplot(ax=axes1[0, 1], data=df_cleaned, x='Age', kde=True, color=pallet[1], bins=30)\n",
    "axes1[0, 1].set_title('Distribuição da Idade', fontsize=14)\n",
    "\n",
    "# Gráfico 1.3: Nível de Escolaridade\n",
    "sns.countplot(ax=axes1[1, 0], data=df_cleaned, x='Education', order=df_cleaned['Education'].value_counts().index, hue='Education', legend=False)\n",
    "axes1[1, 0].set_title('Nível de Escolaridade', fontsize=14)\n",
    "\n",
    "# Gráfico 1.4: Tamanho da Família\n",
    "sns.countplot(ax=axes1[1, 1], data=df_cleaned, x='Family_Size', hue='Family_Size', legend=False)\n",
    "axes1[1, 1].set_title('Tamanho da Família (Adultos + Crianças)', fontsize=14)\n",
    "\n",
    "plt.tight_layout()\n",
    "plt.show()"
   ]
  },
  {
   "cell_type": "code",
   "execution_count": null,
   "id": "d22bbeea",
   "metadata": {},
   "outputs": [],
   "source": [
    "# --- Capítulo 2: Como Eles Compram? (Análise de Consumo) ---\n",
    "print(\"\\nCapítulo 2: Comportamento de Consumo dos Clientes\")\n",
    "# Calculando o gasto total por categoria\n",
    "spent_cols = ['Wine_Spent', 'Fruit_Spent', 'Meat_Spent', 'Fish_Spent', 'Sweet_Spent', 'Gold_Spent']\n",
    "total_spent_by_cat = df_cleaned[spent_cols].sum().sort_values(ascending=False)\n",
    "\n",
    "fig2, axes2 = plt.subplots(1, 2, figsize=(18, 7))\n",
    "fig2.suptitle('Capítulo 2: Como Eles Compram?', fontsize=20, y=1.03)\n",
    "\n",
    "# Gráfico 2.1: Gasto Total por Categoria de Produto\n",
    "sns.barplot(ax=axes2[0], x=total_spent_by_cat.index, y=total_spent_by_cat.values, palette=pallet)\n",
    "axes2[0].set_title('Gasto Total por Categoria de Produto', fontsize=14)\n",
    "axes2[0].set_ylabel('Gasto Total')\n",
    "axes2[0].tick_params(axis='x', rotation=45)\n",
    "\n",
    "# Gráfico 2.2: Distribuição do Gasto Total por Cliente\n",
    "sns.histplot(ax=axes2[1], data=df_cleaned, x='Total_Spent', kde=True, color=pallet[5], bins=40)\n",
    "axes2[1].set_title('Distribuição do Gasto Total por Cliente', fontsize=14)\n",
    "\n",
    "plt.tight_layout()\n",
    "plt.show()"
   ]
  },
  {
   "cell_type": "code",
   "execution_count": null,
   "id": "cd6337f3",
   "metadata": {},
   "outputs": [],
   "source": [
    "# --- Capítulo 3: Quais Relações Existem nos Dados? (Análise de Correlação) ---\n",
    "print(\"\\nCapítulo 3: Relações Entre as Variáveis\")\n",
    "fig3, axes3 = plt.subplots(1, 2, figsize=(18, 7))\n",
    "fig3.suptitle('Capítulo 3: Quais Relações Existem nos Dados?', fontsize=20, y=1.03)\n",
    "\n",
    "# Gráfico 3.1: Relação entre Renda e Gasto Total\n",
    "sns.scatterplot(ax=axes3[0], data=df_cleaned, x='Income', y='Total_Spent', hue='Is_Parent', palette=\"viridis\")\n",
    "axes3[0].set_title('Renda vs. Gasto Total (Colorido por \"É Pai?\")', fontsize=14)\n",
    "\n",
    "# Gráfico 3.2: Heatmap de Correlação (com menos variáveis para ser mais legível)\n",
    "cols_for_corr = ['Income', 'Age', 'Customer_Tenure', 'Total_Spent', 'Family_Size', 'Children']\n",
    "corr = df_cleaned[cols_for_corr].corr()\n",
    "sns.heatmap(ax=axes3[1], data=corr, annot=True, fmt=\".2f\", cmap='coolwarm')\n",
    "axes3[1].set_title('Heatmap de Correlação das Principais Features', fontsize=14)\n",
    "\n",
    "plt.tight_layout()\n",
    "plt.show()"
   ]
  },
  {
   "cell_type": "code",
   "execution_count": null,
   "id": "1ff5ace2",
   "metadata": {},
   "outputs": [],
   "source": [
    "plt.figure(figsize=(18, 12))\n",
    "for i, col in enumerate(num_cols):\n",
    "    plt.subplot(4, 3, i + 1)\n",
    "    sns.boxplot(x=df_cleaned[col], color='lightcoral')\n",
    "    plt.title(f'Boxplot de {col}')\n",
    "plt.tight_layout()\n",
    "plt.show()\n"
   ]
  },
  {
   "cell_type": "code",
   "execution_count": null,
   "id": "52c9e5d7",
   "metadata": {},
   "outputs": [],
   "source": [
    "# Marital Status já foi agrupado em Living_With\n",
    "sns.countplot(data=df_cleaned, x='Living_With', palette='Set2')\n",
    "plt.title(\"Distribuição de Estado Civil (Agrupado)\")\n",
    "plt.show()\n",
    "\n",
    "sns.countplot(data=df_cleaned, x='Education', palette='Set3', order=df_cleaned['Education'].value_counts().index)\n",
    "plt.title(\"Distribuição de Nível de Educação\")\n",
    "plt.xticks(rotation=45)\n",
    "plt.show()\n",
    "\n",
    "sns.countplot(data=df_cleaned, x='Is_Parent', palette='Set1')\n",
    "plt.title(\"Distribuição de Clientes com ou sem Filhos\")\n",
    "plt.xticks([0, 1], [\"Sem filhos\", \"Com filhos\"])\n",
    "plt.show()\n"
   ]
  },
  {
   "cell_type": "code",
   "execution_count": null,
   "id": "00b072c9",
   "metadata": {},
   "outputs": [],
   "source": [
    "# Seleciona apenas colunas numéricas\n",
    "df_corr = df_cleaned.select_dtypes(include=np.number)\n",
    "\n",
    "plt.figure(figsize=(14, 10))\n",
    "sns.heatmap(df_corr.corr(), annot=True, fmt=\".2f\", cmap='coolwarm', square=True)\n",
    "plt.title(\"Mapa de Correlação das Variáveis Numéricas\")\n",
    "plt.show()"
   ]
  },
  {
   "cell_type": "code",
   "execution_count": null,
   "id": "fc25f8b8",
   "metadata": {},
   "outputs": [],
   "source": [
    "# Gasto total vs. renda\n",
    "plt.figure(figsize=(8, 6))\n",
    "sns.scatterplot(data=df_cleaned, x='Income', y='Total_Spent', hue='Is_Parent', palette='Set1')\n",
    "plt.title('Gasto Total vs. Renda')\n",
    "plt.show()\n",
    "\n",
    "# Idade vs. gasto com vinho\n",
    "plt.figure(figsize=(8, 6))\n",
    "sns.scatterplot(data=df_cleaned, x='Age', y='Wine_Spent', hue='Education', palette='Set2')\n",
    "plt.title('Idade vs. Gasto com Vinho')\n",
    "plt.show()\n"
   ]
  },
  {
   "cell_type": "code",
   "execution_count": null,
   "id": "c8229239",
   "metadata": {},
   "outputs": [],
   "source": [
    "# Criando a figura para o nosso dashboard de plots\n",
    "fig, axes = plt.subplots(2, 2, figsize=(18, 12))\n",
    "fig.suptitle('Análise Visual de Features Importantes', fontsize=20, y=1.03)\n",
    "\n",
    "# Gráfico 1: Boxplot da Renda (Income)\n",
    "sns.boxplot(ax=axes[0, 0], x=df_cleaned['Income'], color=pallet[0])\n",
    "axes[0, 0].set_title('Distribuição da Renda (Income)', fontsize=14)\n",
    "\n",
    "# Gráfico 2: Boxplot do Gasto Total (Total_Spent)\n",
    "sns.boxplot(ax=axes[0, 1], x=df_cleaned['Total_Spent'], color=pallet[1])\n",
    "axes[0, 1].set_title('Distribuição do Gasto Total (Total_Spent)', fontsize=14)\n",
    "\n",
    "# Gráfico 3: Relação entre Renda e Gasto Total\n",
    "sns.scatterplot(ax=axes[1, 0], data=df_cleaned, x='Income', y='Total_Spent', color=pallet[2])\n",
    "axes[1, 0].set_title('Renda vs. Gasto Total', fontsize=14)\n",
    "\n",
    "# Gráfico 4: Boxplot da Idade (Age)\n",
    "sns.boxplot(ax=axes[1, 1], x=df_cleaned['Age'], color=pallet[3])\n",
    "axes[1, 1].set_title('Distribuição da Idade (Age)', fontsize=14)\n",
    "\n",
    "plt.tight_layout()\n",
    "plt.show()"
   ]
  },
  {
   "cell_type": "code",
   "execution_count": null,
   "id": "b94bc881",
   "metadata": {},
   "outputs": [],
   "source": []
  }
 ],
 "metadata": {
  "kernelspec": {
   "display_name": ".venv",
   "language": "python",
   "name": "python3"
  },
  "language_info": {
   "codemirror_mode": {
    "name": "ipython",
    "version": 3
   },
   "file_extension": ".py",
   "mimetype": "text/x-python",
   "name": "python",
   "nbconvert_exporter": "python",
   "pygments_lexer": "ipython3",
   "version": "3.13.2"
  }
 },
 "nbformat": 4,
 "nbformat_minor": 5
}
